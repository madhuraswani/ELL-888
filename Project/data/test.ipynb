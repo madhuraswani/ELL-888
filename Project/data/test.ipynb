{
 "cells": [
  {
   "cell_type": "code",
   "execution_count": 20,
   "metadata": {},
   "outputs": [],
   "source": [
    "from scipy.io import mmread\n",
    "from scipy import sparse\n",
    "import numpy as np\n",
    "#import pandas as pd"
   ]
  },
  {
   "cell_type": "code",
   "execution_count": 2,
   "metadata": {},
   "outputs": [],
   "source": [
    "import numpy as np\n",
    "from scipy import sparse\n",
    "\n",
    "def sparse_corrcoef(A, B=None):\n",
    "\n",
    "    if B is not None:\n",
    "        A = sparse.vstack((A, B), format='csr')\n",
    "\n",
    "    A = A.astype(np.float64)\n",
    "    n = A.shape[1]\n",
    "\n",
    "    # Compute the covariance matrix\n",
    "    rowsum = A.sum(1)\n",
    "    centering = rowsum.dot(rowsum.T.conjugate()) / n\n",
    "    C = (A.dot(A.T.conjugate()) - centering) / (n - 1)\n",
    "\n",
    "    # The correlation coefficients are given by\n",
    "    # C_{i,j} / sqrt(C_{i} * C_{j})\n",
    "    d = np.diag(C)\n",
    "    coeffs = C / np.sqrt(np.outer(d, d))\n",
    "\n",
    "    return coeffs\n"
   ]
  },
  {
   "cell_type": "code",
   "execution_count": 39,
   "metadata": {},
   "outputs": [
    {
     "ename": "TypeError",
     "evalue": "'coo_matrix' object is not subscriptable",
     "output_type": "error",
     "traceback": [
      "\u001b[1;31m---------------------------------------------------------------------------\u001b[0m",
      "\u001b[1;31mTypeError\u001b[0m                                 Traceback (most recent call last)",
      "Cell \u001b[1;32mIn[39], line 3\u001b[0m\n\u001b[0;32m      1\u001b[0m k\u001b[38;5;241m=\u001b[39m\u001b[38;5;241m5\u001b[39m\n\u001b[0;32m      2\u001b[0m graph\u001b[38;5;241m=\u001b[39m[]\n\u001b[1;32m----> 3\u001b[0m \u001b[38;5;28;43;01mfor\u001b[39;49;00m\u001b[43m \u001b[49m\u001b[43mi\u001b[49m\u001b[43m,\u001b[49m\u001b[43mrow\u001b[49m\u001b[43m \u001b[49m\u001b[38;5;129;43;01min\u001b[39;49;00m\u001b[43m \u001b[49m\u001b[38;5;28;43mzip\u001b[39;49m\u001b[43m(\u001b[49m\u001b[38;5;28;43mrange\u001b[39;49m\u001b[43m(\u001b[49m\u001b[43ma\u001b[49m\u001b[38;5;241;43m.\u001b[39;49m\u001b[43mshape\u001b[49m\u001b[43m[\u001b[49m\u001b[38;5;241;43m0\u001b[39;49m\u001b[43m]\u001b[49m\u001b[43m)\u001b[49m\u001b[43m,\u001b[49m\u001b[43ma\u001b[49m\u001b[43m)\u001b[49m\u001b[43m:\u001b[49m\n\u001b[0;32m      4\u001b[0m \u001b[43m    \u001b[49m\u001b[43madjacency\u001b[49m\u001b[38;5;241;43m=\u001b[39;49m\u001b[38;5;28;43mlist\u001b[39;49m\u001b[43m(\u001b[49m\u001b[43mnp\u001b[49m\u001b[38;5;241;43m.\u001b[39;49m\u001b[43mzeros\u001b[49m\u001b[43m(\u001b[49m\u001b[43ma\u001b[49m\u001b[38;5;241;43m.\u001b[39;49m\u001b[43mshape\u001b[49m\u001b[43m[\u001b[49m\u001b[38;5;241;43m0\u001b[39;49m\u001b[43m]\u001b[49m\u001b[43m)\u001b[49m\u001b[43m)\u001b[49m\n\u001b[0;32m      6\u001b[0m \u001b[43m    \u001b[49m\u001b[43mdistance\u001b[49m\u001b[38;5;241;43m=\u001b[39;49m\u001b[43m[\u001b[49m\u001b[43m]\u001b[49m\n",
      "File \u001b[1;32mc:\\Users\\Madhur\\AppData\\Local\\Programs\\Python\\Python311\\Lib\\site-packages\\scipy\\sparse\\_base.py:252\u001b[0m, in \u001b[0;36m_spbase.__iter__\u001b[1;34m(self)\u001b[0m\n\u001b[0;32m    250\u001b[0m \u001b[38;5;28;01mdef\u001b[39;00m \u001b[38;5;21m__iter__\u001b[39m(\u001b[38;5;28mself\u001b[39m):\n\u001b[0;32m    251\u001b[0m     \u001b[38;5;28;01mfor\u001b[39;00m r \u001b[38;5;129;01min\u001b[39;00m \u001b[38;5;28mrange\u001b[39m(\u001b[38;5;28mself\u001b[39m\u001b[38;5;241m.\u001b[39mshape[\u001b[38;5;241m0\u001b[39m]):\n\u001b[1;32m--> 252\u001b[0m         \u001b[38;5;28;01myield\u001b[39;00m \u001b[38;5;28;43mself\u001b[39;49m\u001b[43m[\u001b[49m\u001b[43mr\u001b[49m\u001b[43m,\u001b[49m\u001b[43m \u001b[49m\u001b[43m:\u001b[49m\u001b[43m]\u001b[49m\n",
      "\u001b[1;31mTypeError\u001b[0m: 'coo_matrix' object is not subscriptable"
     ]
    }
   ],
   "source": [
    "k=5\n",
    "graph=[]\n",
    "for i,row in zip(range(a.shape[0]),a):\n",
    "    adjacency=list(np.zeros(a.shape[0]))\n",
    "    \n",
    "    distance=[]\n",
    "    for point in a:\n",
    "        diff=row-point\n",
    "        diff=diff.todense()\n",
    "        diff=np.square(diff)\n",
    "        distance.append(np.sum(diff)**(1/2))\n",
    "    for val in np.sort(distance)[:k+1]:\n",
    "        index=distance.index(val)\n",
    "        adjacency[index]=1\n",
    "    graph.append(adjacency)\n",
    "\n"
   ]
  },
  {
   "cell_type": "code",
   "execution_count": 33,
   "metadata": {},
   "outputs": [
    {
     "data": {
      "text/plain": [
       "<1x33694 sparse matrix of type '<class 'numpy.int64'>'\n",
       "\twith 748 stored elements in Compressed Sparse Row format>"
      ]
     },
     "execution_count": 33,
     "metadata": {},
     "output_type": "execute_result"
    }
   ],
   "source": [
    "a[0:1]"
   ]
  },
  {
   "cell_type": "code",
   "execution_count": 35,
   "metadata": {},
   "outputs": [],
   "source": [
    "def k_nearest_Graph(A,k):\n",
    "    A=A.tocsr()\n",
    "    graph=[]\n",
    "    for i,row in zip(range(A.shape[0]),A):\n",
    "        adjacency=list(np.zeros(A.shape[0]))\n",
    "        \n",
    "        distance=[]\n",
    "        for point in A:\n",
    "            diff=row-point\n",
    "            diff=diff.todense()\n",
    "            diff=np.square(diff)\n",
    "            distance.append(np.sum(diff)**(1/2))\n",
    "        for val in np.sort(distance)[:k+1]:\n",
    "            index=distance.index(val)\n",
    "            adjacency[index]=1\n",
    "        graph.append(adjacency)\n",
    "    graph=graph-np.eye(A.shape[0])\n",
    "    return sparse.csr_matrix(graph)"
   ]
  },
  {
   "cell_type": "code",
   "execution_count": 40,
   "metadata": {},
   "outputs": [],
   "source": [
    "a = mmread('C:/Users/Madhur/Documents/IITD/ELL-888/Project/data/SingleCell_gene_/GRCh38/matrix.mtx')\n",
    "a=a.T\n",
    "graph=k_nearest_Graph(a,6)\n",
    "print(graph)"
   ]
  },
  {
   "cell_type": "code",
   "execution_count": 38,
   "metadata": {},
   "outputs": [
    {
     "name": "stdout",
     "output_type": "stream",
     "text": [
      "  (0, 627)\t1.0\n",
      "  (0, 822)\t1.0\n",
      "  (0, 2143)\t1.0\n",
      "  (0, 2209)\t1.0\n",
      "  (0, 2902)\t1.0\n",
      "  (1, 627)\t1.0\n",
      "  (1, 822)\t1.0\n",
      "  (1, 2143)\t1.0\n",
      "  (1, 2209)\t1.0\n",
      "  (1, 2902)\t1.0\n",
      "  (2, 627)\t1.0\n",
      "  (2, 822)\t1.0\n",
      "  (2, 2143)\t1.0\n",
      "  (2, 2209)\t1.0\n",
      "  (2, 2902)\t1.0\n",
      "  (3, 627)\t1.0\n",
      "  (3, 822)\t1.0\n",
      "  (3, 2143)\t1.0\n",
      "  (3, 2209)\t1.0\n",
      "  (3, 2902)\t1.0\n",
      "  (4, 627)\t1.0\n",
      "  (4, 822)\t1.0\n",
      "  (4, 2143)\t1.0\n",
      "  (4, 2209)\t1.0\n",
      "  (4, 2902)\t1.0\n",
      "  :\t:\n",
      "  (871, 628)\t1.0\n",
      "  (871, 823)\t1.0\n",
      "  (871, 2143)\t1.0\n",
      "  (871, 2209)\t1.0\n",
      "  (871, 2902)\t1.0\n",
      "  (872, 823)\t1.0\n",
      "  (872, 2143)\t1.0\n",
      "  (872, 2209)\t1.0\n",
      "  (872, 2902)\t1.0\n",
      "  (872, 3673)\t1.0\n",
      "  (873, 628)\t1.0\n",
      "  (873, 823)\t1.0\n",
      "  (873, 2143)\t1.0\n",
      "  (873, 2209)\t1.0\n",
      "  (873, 2902)\t1.0\n",
      "  (874, 628)\t1.0\n",
      "  (874, 823)\t1.0\n",
      "  (874, 2143)\t1.0\n",
      "  (874, 2902)\t1.0\n",
      "  (874, 3673)\t1.0\n",
      "  (875, 628)\t1.0\n",
      "  (875, 823)\t1.0\n",
      "  (875, 2143)\t1.0\n",
      "  (875, 2902)\t1.0\n",
      "  (875, 3673)\t1.0\n"
     ]
    }
   ],
   "source": [
    "print(sparse.csr_matrix(graph))"
   ]
  },
  {
   "cell_type": "code",
   "execution_count": 4,
   "metadata": {},
   "outputs": [],
   "source": [
    "graph=sparse_corrcoef(a)"
   ]
  },
  {
   "cell_type": "code",
   "execution_count": 7,
   "metadata": {},
   "outputs": [],
   "source": [
    "newgr=np.asarray(graph)"
   ]
  },
  {
   "cell_type": "code",
   "execution_count": 8,
   "metadata": {},
   "outputs": [],
   "source": [
    "inv_corr=np.linalg.inv(newgr)"
   ]
  },
  {
   "cell_type": "code",
   "execution_count": 10,
   "metadata": {},
   "outputs": [
    {
     "data": {
      "text/plain": [
       "array([[ 1.00000000e+00,  6.96553926e-12,  7.04281078e-12, ...,\n",
       "         5.70749004e-12,  5.44914808e-12,  6.77546907e-12],\n",
       "       [-2.53663757e-12,  1.00000000e+00, -2.35722553e-12, ...,\n",
       "        -1.01252340e-12, -7.08766379e-13, -2.11208828e-12],\n",
       "       [-3.12638804e-12, -3.38928885e-12,  1.00000000e+00, ...,\n",
       "        -3.53850282e-12, -3.21165317e-12, -3.56692453e-12],\n",
       "       ...,\n",
       "       [ 4.54747351e-13,  6.82121026e-13,  7.95807864e-13, ...,\n",
       "         1.00000000e+00,  6.82121026e-13,  4.54747351e-13],\n",
       "       [-2.27373675e-13, -1.70530257e-13, -1.56319402e-13, ...,\n",
       "        -2.84217094e-13,  1.00000000e+00, -1.98951966e-13],\n",
       "       [ 4.26325641e-13,  3.69482223e-13,  2.98427949e-13, ...,\n",
       "         4.40536496e-13,  4.12114787e-13,  1.00000000e+00]])"
      ]
     },
     "execution_count": 10,
     "metadata": {},
     "output_type": "execute_result"
    }
   ],
   "source": [
    "inv_corr"
   ]
  }
 ],
 "metadata": {
  "kernelspec": {
   "display_name": "Python 3",
   "language": "python",
   "name": "python3"
  },
  "language_info": {
   "codemirror_mode": {
    "name": "ipython",
    "version": 3
   },
   "file_extension": ".py",
   "mimetype": "text/x-python",
   "name": "python",
   "nbconvert_exporter": "python",
   "pygments_lexer": "ipython3",
   "version": "3.11.6"
  }
 },
 "nbformat": 4,
 "nbformat_minor": 2
}
